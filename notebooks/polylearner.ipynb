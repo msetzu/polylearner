{
 "cells": [
  {
   "cell_type": "markdown",
   "source": [
    "# Polylearner"
   ],
   "metadata": {
    "collapsed": false
   }
  },
  {
   "cell_type": "code",
   "execution_count": 8,
   "outputs": [
    {
     "name": "stdout",
     "output_type": "stream",
     "text": [
      "System:\n",
      "\tX1 => 0.0\n",
      "\tX1 - F =< 0.0\n",
      "\tX0 + F =< 5.0\n",
      "\tX0 => 0.0\n",
      "\tF => 2.0\n",
      "\tF =< 3.0\n",
      "---\n",
      "Solutions:\n",
      "\tSolution 0\n",
      "\t\tF = 2.0\n",
      "\t\tE = 3.0\n",
      "\t\tD = 0.0\n",
      "\t\tC = 0.0\n",
      "\tSolution 1\n",
      "\t\tF = 3.0\n",
      "\t\tE = 2.0\n",
      "\t\tD = 0.0\n",
      "\t\tC = 0.0\n",
      "\n"
     ]
    }
   ],
   "source": [
    "%load_ext autoreload\n",
    "%autoreload 2\n",
    "\n",
    "import json\n",
    "import sys\n",
    "\n",
    "sys.path.append(\"../src/\")\n",
    "\n",
    "from hyperplanes.planes import Hyperplane\n",
    "from hyperplanes.systems import System\n",
    "from learner.polylearner import Polylearner\n",
    "from learner.symbolicsystems import SymbolicParametricSystem\n",
    "\n",
    "# [-X =< 0, X =< 3, -Y =< 0, Y =< 2]\n",
    "h1 = Hyperplane([-1., 0.], 0.)\n",
    "h2 = Hyperplane([1., 0.], 3.)\n",
    "h3 = Hyperplane([0., -1.], 0.)\n",
    "h4 = Hyperplane([0., 1.], 2.)\n",
    "s1 = System([h1, h2, h3, h4])\n",
    "\n",
    "# [-X =< 0, X =< 2, -Y =< 0, Y =< 3]\n",
    "h5 = Hyperplane([-1., 0.], 0.)\n",
    "h6 = Hyperplane([1., 0.], 2.)\n",
    "h7 = Hyperplane([0., -1.], 0.)\n",
    "h8 = Hyperplane([0., 1.], 3.)\n",
    "s2 = System([h5, h6, h7, h8])\n",
    "\n",
    "learner = Polylearner()\n",
    "learned_system = learner.fit([s1, s2])\n",
    "print(learned_system)"
   ],
   "metadata": {
    "collapsed": false
   }
  },
  {
   "cell_type": "markdown",
   "source": [
    "## Grounding\n",
    "`SymbolicParametricSystem`s can be grounded, either fully or partially."
   ],
   "metadata": {
    "collapsed": false
   }
  },
  {
   "cell_type": "code",
   "execution_count": null,
   "outputs": [],
   "source": [
    "full_grounding = learned_system.solutions[0]\n",
    "partial_grounding = {k: v for k, v in list(learned_system.solutions[0].items())[:1]}\n",
    "\n",
    "sol_0 = learned_system.ground(learned_system.solutions[0])\n",
    "partial_sol_0 = learned_system.ground(partial_grounding)"
   ],
   "metadata": {
    "collapsed": false
   }
  },
  {
   "cell_type": "markdown",
   "source": [
    "And they can be stored and retrieved."
   ],
   "metadata": {
    "collapsed": false
   }
  },
  {
   "cell_type": "code",
   "execution_count": null,
   "outputs": [],
   "source": [
    "with open(\"example.json\", 'w') as log:\n",
    "    json.dump(learned_system.json(), log)\n",
    "with open(\"example.json\", 'r') as log:\n",
    "    res = json.load(log)\n",
    "    res = SymbolicParametricSystem.from_json(res)\n",
    "\n",
    "assert learned_system == res"
   ],
   "metadata": {
    "collapsed": false
   }
  },
  {
   "cell_type": "markdown",
   "source": [
    "## Additional examples from the paper"
   ],
   "metadata": {
    "collapsed": false
   }
  },
  {
   "cell_type": "code",
   "execution_count": null,
   "outputs": [],
   "source": [
    "#################################################################\n",
    "## 4.2 ##########################################################\n",
    "#################################################################\n",
    "# [X =< 0, Y =< 0]\n",
    "h1 = Hyperplane([1., 0.], 0.)\n",
    "h2 = Hyperplane([0., 1.], 0.)\n",
    "s1 = System([h1, h2])\n",
    "\n",
    "# [X =< 2, Y =< 0]\n",
    "h3 = Hyperplane([1., 0.], 2.)\n",
    "h4 = Hyperplane([0., 1.], 0.)\n",
    "s2 = System([h3, h4])\n",
    "\n",
    "learner = Polylearner()\n",
    "learned_system = learner.fit([s1, s2])\n",
    "print(learned_system)\n",
    "\n",
    "\n",
    "#################################################################\n",
    "## 4.6 ##########################################################\n",
    "#################################################################\n",
    "#[-Y =< 0, X+Y =< 3, X =< 2]\n",
    "h1 = Hyperplane([0., -1.], 0.)\n",
    "h2 = Hyperplane([1., 1.], 3.)\n",
    "h3 = Hyperplane([1., 0.], 2.)\n",
    "s1 = System([h1, h2, h3])\n",
    "\n",
    "# [-Y =< 0, X+Y =< 1]\n",
    "h4 = Hyperplane([0., -1.], 0.)\n",
    "h5 = Hyperplane([1., 1.], 1.)\n",
    "s2 = System([h4, h5])\n",
    "\n",
    "# [-Y =< 0, X+Y =< 2]]\n",
    "h6 = Hyperplane([0., -1.], 0.)\n",
    "h7 = Hyperplane([1., 1.], 2.)\n",
    "s3 = System([h6, h7])\n",
    "\n",
    "learner = Polylearner()\n",
    "learned_system = learner.fit([s1, s2])\n",
    "print(learned_system)\n",
    "\n",
    "\n",
    "#################################################################\n",
    "## 4.11 #########################################################\n",
    "#################################################################\n",
    "# [X =< 0, Y =< 0],\n",
    "h1 = Hyperplane([1., 0.], 0.)\n",
    "h2 = Hyperplane([0., 1.], 0.)\n",
    "s1 = System([h1, h2])\n",
    "\n",
    "# [X =< 1, Y =< 2],\n",
    "h3 = Hyperplane([1., 0.], 1.)\n",
    "h4 = Hyperplane([0., 1.], 2.)\n",
    "s2 = System([h3, h4])\n",
    "\n",
    "# [X =< 2, Y =< 1]\n",
    "h5 = Hyperplane([1., 0.], 2.)\n",
    "h6 = Hyperplane([0., 1.], 1.)\n",
    "s3 = System([h5, h6])\n",
    "\n",
    "learner = Polylearner()\n",
    "learned_system = learner.fit([s1, s2, s3])\n",
    "print(learned_system)"
   ],
   "metadata": {
    "collapsed": false
   }
  }
 ],
 "metadata": {
  "kernelspec": {
   "display_name": "Python 3",
   "language": "python",
   "name": "python3"
  },
  "language_info": {
   "codemirror_mode": {
    "name": "ipython",
    "version": 2
   },
   "file_extension": ".py",
   "mimetype": "text/x-python",
   "name": "python",
   "nbconvert_exporter": "python",
   "pygments_lexer": "ipython2",
   "version": "2.7.6"
  }
 },
 "nbformat": 4,
 "nbformat_minor": 0
}
