{
 "cells": [
  {
   "cell_type": "markdown",
   "source": [
    "# Systems\n",
    "`System`s are comprised of `Hyperplane`s."
   ],
   "metadata": {
    "collapsed": false
   }
  },
  {
   "cell_type": "code",
   "execution_count": 25,
   "outputs": [
    {
     "name": "stdout",
     "output_type": "stream",
     "text": [
      "The autoreload extension is already loaded. To reload it, use:\n",
      "  %reload_ext autoreload\n"
     ]
    }
   ],
   "source": [
    "%load_ext autoreload\n",
    "%autoreload 2\n",
    "\n",
    "import sys\n",
    "\n",
    "sys.path.append(\"../src/\")\n",
    "\n",
    "from rich import print\n",
    "\n",
    "from hyperplanes.planes import Hyperplane\n",
    "from hyperplanes.systems import System\n",
    "\n",
    "# [-X =< 0, X =< 3, -Y =< 0, Y =< 2]\n",
    "h1 = Hyperplane([-1., 0.], 0.)\n",
    "h2 = Hyperplane([1., 0.], 3.)\n",
    "h3 = Hyperplane([0., -1.], 0.)\n",
    "h4 = Hyperplane([0., 1.], 2.)\n",
    "\n",
    "# [-X =< 0, X =< 2, -Y =< 0, Y =< 3]\n",
    "h5 = Hyperplane([-1., 0.], 0.)\n",
    "h6 = Hyperplane([1., 0.], 2.)\n",
    "h7 = Hyperplane([0., -1.], 0.)\n",
    "h8 = Hyperplane([0., 1.], 3.)"
   ],
   "metadata": {
    "collapsed": false
   }
  },
  {
   "cell_type": "markdown",
   "source": [
    "They can be summed, subtracted, multiplied, negated, and inverted:"
   ],
   "metadata": {
    "collapsed": false
   }
  },
  {
   "cell_type": "code",
   "execution_count": 43,
   "outputs": [
    {
     "data": {
      "text/plain": "\u001B[1;31mh1\u001B[0m \nHyperplane\n        coefficients: \u001B[1m[\u001B[0m\u001B[1;36m-1.0\u001B[0m, \u001B[1;36m0.0\u001B[0m\u001B[1m]\u001B[0m\n        bound: \u001B[1;36m0.0\u001B[0m\n\n\n",
      "text/html": "<pre style=\"white-space:pre;overflow-x:auto;line-height:normal;font-family:Menlo,'DejaVu Sans Mono',consolas,'Courier New',monospace\"><span style=\"color: #800000; text-decoration-color: #800000; font-weight: bold\">h1</span> \nHyperplane\n        coefficients: <span style=\"font-weight: bold\">[</span><span style=\"color: #008080; text-decoration-color: #008080; font-weight: bold\">-1.0</span>, <span style=\"color: #008080; text-decoration-color: #008080; font-weight: bold\">0.0</span><span style=\"font-weight: bold\">]</span>\n        bound: <span style=\"color: #008080; text-decoration-color: #008080; font-weight: bold\">0.0</span>\n\n\n</pre>\n"
     },
     "metadata": {},
     "output_type": "display_data"
    },
    {
     "data": {
      "text/plain": "\u001B[1;34mSum\u001B[0m \u001B[1m(\u001B[0madd to coefficients and bounds\u001B[1m)\u001B[0m\n h1 + \u001B[1;36m2\u001B[0m. = \nHyperplane\n        coefficients: \u001B[1m[\u001B[0m\u001B[1;36m1.0\u001B[0m, \u001B[1;36m2.0\u001B[0m\u001B[1m]\u001B[0m\n        bound: \u001B[1;36m2.0\u001B[0m\n\n",
      "text/html": "<pre style=\"white-space:pre;overflow-x:auto;line-height:normal;font-family:Menlo,'DejaVu Sans Mono',consolas,'Courier New',monospace\"><span style=\"color: #000080; text-decoration-color: #000080; font-weight: bold\">Sum</span> <span style=\"font-weight: bold\">(</span>add to coefficients and bounds<span style=\"font-weight: bold\">)</span>\n h1 + <span style=\"color: #008080; text-decoration-color: #008080; font-weight: bold\">2</span>. = \nHyperplane\n        coefficients: <span style=\"font-weight: bold\">[</span><span style=\"color: #008080; text-decoration-color: #008080; font-weight: bold\">1.0</span>, <span style=\"color: #008080; text-decoration-color: #008080; font-weight: bold\">2.0</span><span style=\"font-weight: bold\">]</span>\n        bound: <span style=\"color: #008080; text-decoration-color: #008080; font-weight: bold\">2.0</span>\n\n</pre>\n"
     },
     "metadata": {},
     "output_type": "display_data"
    },
    {
     "data": {
      "text/plain": "\u001B[1;34mSub\u001B[0m \u001B[1m(\u001B[0msubtract to coefficients and bounds\u001B[1m)\u001B[0m\n h1 - \u001B[1;36m2\u001B[0m. = \nHyperplane\n        coefficients: \u001B[1m[\u001B[0m\u001B[1;36m-3.0\u001B[0m, \u001B[1;36m-2.0\u001B[0m\u001B[1m]\u001B[0m\n        bound: \u001B[1;36m-2.0\u001B[0m\n\n",
      "text/html": "<pre style=\"white-space:pre;overflow-x:auto;line-height:normal;font-family:Menlo,'DejaVu Sans Mono',consolas,'Courier New',monospace\"><span style=\"color: #000080; text-decoration-color: #000080; font-weight: bold\">Sub</span> <span style=\"font-weight: bold\">(</span>subtract to coefficients and bounds<span style=\"font-weight: bold\">)</span>\n h1 - <span style=\"color: #008080; text-decoration-color: #008080; font-weight: bold\">2</span>. = \nHyperplane\n        coefficients: <span style=\"font-weight: bold\">[</span><span style=\"color: #008080; text-decoration-color: #008080; font-weight: bold\">-3.0</span>, <span style=\"color: #008080; text-decoration-color: #008080; font-weight: bold\">-2.0</span><span style=\"font-weight: bold\">]</span>\n        bound: <span style=\"color: #008080; text-decoration-color: #008080; font-weight: bold\">-2.0</span>\n\n</pre>\n"
     },
     "metadata": {},
     "output_type": "display_data"
    },
    {
     "data": {
      "text/plain": "\u001B[1;34mMul\u001B[0m \u001B[1m(\u001B[0mmultiply coefficients and bounds\u001B[1m)\u001B[0m\n h1 * \u001B[1;36m2\u001B[0m. = \nHyperplane\n        coefficients: \u001B[1m[\u001B[0m\u001B[1;36m-2.0\u001B[0m, \u001B[1;36m0.0\u001B[0m\u001B[1m]\u001B[0m\n        bound: \u001B[1;36m0.0\u001B[0m\n\n",
      "text/html": "<pre style=\"white-space:pre;overflow-x:auto;line-height:normal;font-family:Menlo,'DejaVu Sans Mono',consolas,'Courier New',monospace\"><span style=\"color: #000080; text-decoration-color: #000080; font-weight: bold\">Mul</span> <span style=\"font-weight: bold\">(</span>multiply coefficients and bounds<span style=\"font-weight: bold\">)</span>\n h1 * <span style=\"color: #008080; text-decoration-color: #008080; font-weight: bold\">2</span>. = \nHyperplane\n        coefficients: <span style=\"font-weight: bold\">[</span><span style=\"color: #008080; text-decoration-color: #008080; font-weight: bold\">-2.0</span>, <span style=\"color: #008080; text-decoration-color: #008080; font-weight: bold\">0.0</span><span style=\"font-weight: bold\">]</span>\n        bound: <span style=\"color: #008080; text-decoration-color: #008080; font-weight: bold\">0.0</span>\n\n</pre>\n"
     },
     "metadata": {},
     "output_type": "display_data"
    },
    {
     "data": {
      "text/plain": "\u001B[1;34mNeg\u001B[0m \u001B[1m(\u001B[0mnegate to coefficients and bounds\u001B[1m)\u001B[0m\n -h1 = \nHyperplane\n        coefficients: \u001B[1m[\u001B[0m\u001B[1;36m1.0\u001B[0m, \u001B[1;36m-0.0\u001B[0m\u001B[1m]\u001B[0m\n        bound: \u001B[1;36m-0.0\u001B[0m\n",
      "text/html": "<pre style=\"white-space:pre;overflow-x:auto;line-height:normal;font-family:Menlo,'DejaVu Sans Mono',consolas,'Courier New',monospace\"><span style=\"color: #000080; text-decoration-color: #000080; font-weight: bold\">Neg</span> <span style=\"font-weight: bold\">(</span>negate to coefficients and bounds<span style=\"font-weight: bold\">)</span>\n -h1 = \nHyperplane\n        coefficients: <span style=\"font-weight: bold\">[</span><span style=\"color: #008080; text-decoration-color: #008080; font-weight: bold\">1.0</span>, <span style=\"color: #008080; text-decoration-color: #008080; font-weight: bold\">-0.0</span><span style=\"font-weight: bold\">]</span>\n        bound: <span style=\"color: #008080; text-decoration-color: #008080; font-weight: bold\">-0.0</span>\n</pre>\n"
     },
     "metadata": {},
     "output_type": "display_data"
    },
    {
     "data": {
      "text/plain": "\u001B[1;34mInv\u001B[0m \u001B[1m(\u001B[0mnegate to coefficients and bounds\u001B[1m)\u001B[0m\n -h1 = \nHyperplane\n        coefficients: \u001B[1m[\u001B[0m\u001B[1;36m1.0\u001B[0m, \u001B[1;36m-0.0\u001B[0m\u001B[1m]\u001B[0m\n        bound: \u001B[1;36m-0.0\u001B[0m\n",
      "text/html": "<pre style=\"white-space:pre;overflow-x:auto;line-height:normal;font-family:Menlo,'DejaVu Sans Mono',consolas,'Courier New',monospace\"><span style=\"color: #000080; text-decoration-color: #000080; font-weight: bold\">Inv</span> <span style=\"font-weight: bold\">(</span>negate to coefficients and bounds<span style=\"font-weight: bold\">)</span>\n -h1 = \nHyperplane\n        coefficients: <span style=\"font-weight: bold\">[</span><span style=\"color: #008080; text-decoration-color: #008080; font-weight: bold\">1.0</span>, <span style=\"color: #008080; text-decoration-color: #008080; font-weight: bold\">-0.0</span><span style=\"font-weight: bold\">]</span>\n        bound: <span style=\"color: #008080; text-decoration-color: #008080; font-weight: bold\">-0.0</span>\n</pre>\n"
     },
     "metadata": {},
     "output_type": "display_data"
    }
   ],
   "source": [
    "print(\"[bold red]h1[bold red]\", f\"\\n{h1}\\n\\n\")\n",
    "print(\"[bold blue]Sum[bold blue]\", f\"(add to coefficients and bounds)\\n h1 + 2. = \\n{h1 + 2.}\\n\")\n",
    "print(\"[bold blue]Sub[bold blue]\", f\"(subtract to coefficients and bounds)\\n h1 - 2. = \\n{h1 - 2.}\\n\")\n",
    "print(\"[bold blue]Mul[bold blue]\", f\"(multiply coefficients and bounds)\\n h1 * 2. = \\n{h1 * 2.}\\n\")\n",
    "print(\"[bold blue]Neg[bold blue]\", f\"(negate to coefficients and bounds)\\n -h1 = \\n{-h1}\")\n",
    "print(\"[bold blue]Inv[bold blue]\", f\"(negate to coefficients and bounds)\\n -h1 = \\n{-h1}\")"
   ],
   "metadata": {
    "collapsed": false
   }
  },
  {
   "cell_type": "markdown",
   "source": [
    "And the same binary operations can be applied **between hyperplanes**:"
   ],
   "metadata": {
    "collapsed": false
   }
  },
  {
   "cell_type": "code",
   "execution_count": 44,
   "outputs": [
    {
     "data": {
      "text/plain": "\u001B[1;31mh1\u001B[0m \nHyperplane\n        coefficients: \u001B[1m[\u001B[0m\u001B[1;36m-1.0\u001B[0m, \u001B[1;36m0.0\u001B[0m\u001B[1m]\u001B[0m\n        bound: \u001B[1;36m0.0\u001B[0m\n\n\n",
      "text/html": "<pre style=\"white-space:pre;overflow-x:auto;line-height:normal;font-family:Menlo,'DejaVu Sans Mono',consolas,'Courier New',monospace\"><span style=\"color: #800000; text-decoration-color: #800000; font-weight: bold\">h1</span> \nHyperplane\n        coefficients: <span style=\"font-weight: bold\">[</span><span style=\"color: #008080; text-decoration-color: #008080; font-weight: bold\">-1.0</span>, <span style=\"color: #008080; text-decoration-color: #008080; font-weight: bold\">0.0</span><span style=\"font-weight: bold\">]</span>\n        bound: <span style=\"color: #008080; text-decoration-color: #008080; font-weight: bold\">0.0</span>\n\n\n</pre>\n"
     },
     "metadata": {},
     "output_type": "display_data"
    },
    {
     "data": {
      "text/plain": "\u001B[1;32mh2\u001B[0m \nHyperplane\n        coefficients: \u001B[1m[\u001B[0m\u001B[1;36m1.0\u001B[0m, \u001B[1;36m0.0\u001B[0m\u001B[1m]\u001B[0m\n        bound: \u001B[1;36m3.0\u001B[0m\n\n\n",
      "text/html": "<pre style=\"white-space:pre;overflow-x:auto;line-height:normal;font-family:Menlo,'DejaVu Sans Mono',consolas,'Courier New',monospace\"><span style=\"color: #008000; text-decoration-color: #008000; font-weight: bold\">h2</span> \nHyperplane\n        coefficients: <span style=\"font-weight: bold\">[</span><span style=\"color: #008080; text-decoration-color: #008080; font-weight: bold\">1.0</span>, <span style=\"color: #008080; text-decoration-color: #008080; font-weight: bold\">0.0</span><span style=\"font-weight: bold\">]</span>\n        bound: <span style=\"color: #008080; text-decoration-color: #008080; font-weight: bold\">3.0</span>\n\n\n</pre>\n"
     },
     "metadata": {},
     "output_type": "display_data"
    },
    {
     "data": {
      "text/plain": "\u001B[1;34mSum\u001B[0m \u001B[1m(\u001B[0madd to coefficients and bounds\u001B[1m)\u001B[0m\n h1 + h2 = \nHyperplane\n        coefficients: \u001B[1m[\u001B[0m\u001B[1;36m0.0\u001B[0m, \u001B[1;36m0.0\u001B[0m\u001B[1m]\u001B[0m\n        bound: \u001B[1;36m3.0\u001B[0m\n\n",
      "text/html": "<pre style=\"white-space:pre;overflow-x:auto;line-height:normal;font-family:Menlo,'DejaVu Sans Mono',consolas,'Courier New',monospace\"><span style=\"color: #000080; text-decoration-color: #000080; font-weight: bold\">Sum</span> <span style=\"font-weight: bold\">(</span>add to coefficients and bounds<span style=\"font-weight: bold\">)</span>\n h1 + h2 = \nHyperplane\n        coefficients: <span style=\"font-weight: bold\">[</span><span style=\"color: #008080; text-decoration-color: #008080; font-weight: bold\">0.0</span>, <span style=\"color: #008080; text-decoration-color: #008080; font-weight: bold\">0.0</span><span style=\"font-weight: bold\">]</span>\n        bound: <span style=\"color: #008080; text-decoration-color: #008080; font-weight: bold\">3.0</span>\n\n</pre>\n"
     },
     "metadata": {},
     "output_type": "display_data"
    },
    {
     "data": {
      "text/plain": "\u001B[1;34mSub\u001B[0m \u001B[1m(\u001B[0msubtract to coefficients and bounds\u001B[1m)\u001B[0m\n h1 - h2 = \nHyperplane\n        coefficients: \u001B[1m[\u001B[0m\u001B[1;36m-2.0\u001B[0m, \u001B[1;36m0.0\u001B[0m\u001B[1m]\u001B[0m\n        bound: \u001B[1;36m-3.0\u001B[0m\n\n",
      "text/html": "<pre style=\"white-space:pre;overflow-x:auto;line-height:normal;font-family:Menlo,'DejaVu Sans Mono',consolas,'Courier New',monospace\"><span style=\"color: #000080; text-decoration-color: #000080; font-weight: bold\">Sub</span> <span style=\"font-weight: bold\">(</span>subtract to coefficients and bounds<span style=\"font-weight: bold\">)</span>\n h1 - h2 = \nHyperplane\n        coefficients: <span style=\"font-weight: bold\">[</span><span style=\"color: #008080; text-decoration-color: #008080; font-weight: bold\">-2.0</span>, <span style=\"color: #008080; text-decoration-color: #008080; font-weight: bold\">0.0</span><span style=\"font-weight: bold\">]</span>\n        bound: <span style=\"color: #008080; text-decoration-color: #008080; font-weight: bold\">-3.0</span>\n\n</pre>\n"
     },
     "metadata": {},
     "output_type": "display_data"
    },
    {
     "data": {
      "text/plain": "\u001B[1;34mMul\u001B[0m \u001B[1m(\u001B[0mmultiply coefficients and bounds\u001B[1m)\u001B[0m\n h1 * h2 = \nHyperplane\n        coefficients: \u001B[1m[\u001B[0m\u001B[1;36m-1.0\u001B[0m, \u001B[1;36m0.0\u001B[0m\u001B[1m]\u001B[0m\n        bound: \u001B[1;36m0.0\u001B[0m\n\n",
      "text/html": "<pre style=\"white-space:pre;overflow-x:auto;line-height:normal;font-family:Menlo,'DejaVu Sans Mono',consolas,'Courier New',monospace\"><span style=\"color: #000080; text-decoration-color: #000080; font-weight: bold\">Mul</span> <span style=\"font-weight: bold\">(</span>multiply coefficients and bounds<span style=\"font-weight: bold\">)</span>\n h1 * h2 = \nHyperplane\n        coefficients: <span style=\"font-weight: bold\">[</span><span style=\"color: #008080; text-decoration-color: #008080; font-weight: bold\">-1.0</span>, <span style=\"color: #008080; text-decoration-color: #008080; font-weight: bold\">0.0</span><span style=\"font-weight: bold\">]</span>\n        bound: <span style=\"color: #008080; text-decoration-color: #008080; font-weight: bold\">0.0</span>\n\n</pre>\n"
     },
     "metadata": {},
     "output_type": "display_data"
    }
   ],
   "source": [
    "print(\"[bold red]h1[bold red]\", f\"\\n{h1}\\n\\n\")\n",
    "print(\"[bold green]h2[bold green]\", f\"\\n{h2}\\n\\n\")\n",
    "print(\"[bold blue]Sum[bold blue]\", f\"(add to coefficients and bounds)\\n h1 + h2 = \\n{h1 + h2}\\n\")\n",
    "print(\"[bold blue]Sub[bold blue]\", f\"(subtract to coefficients and bounds)\\n h1 - h2 = \\n{h1 - h2}\\n\")\n",
    "print(\"[bold blue]Mul[bold blue]\", f\"(multiply coefficients and bounds)\\n h1 * h2 = \\n{h1 * h2}\\n\")"
   ],
   "metadata": {
    "collapsed": false
   }
  },
  {
   "cell_type": "code",
   "execution_count": 45,
   "outputs": [],
   "source": [
    "s1 = System([h1, h2, h3, h4])\n",
    "s2 = System([h5, h6, h7, h8])"
   ],
   "metadata": {
    "collapsed": false
   }
  },
  {
   "cell_type": "code",
   "execution_count": 53,
   "outputs": [
    {
     "data": {
      "text/plain": "System:\n        Coefficients:\n                \u001B[1m[\u001B[0m\u001B[1;36m-1\u001B[0m.  \u001B[1;36m0\u001B[0m.\u001B[1m]\u001B[0m\n                \u001B[1m[\u001B[0m\u001B[1;36m1\u001B[0m. \u001B[1;36m0\u001B[0m.\u001B[1m]\u001B[0m\n                \u001B[1m[\u001B[0m \u001B[1;36m0\u001B[0m. \u001B[1;36m-1\u001B[0m.\u001B[1m]\u001B[0m\n                \u001B[1m[\u001B[0m\u001B[1;36m0\u001B[0m. \u001B[1;36m1\u001B[0m.\u001B[1m]\u001B[0m\n\n        Bounds:\n                \u001B[1m[\u001B[0m\u001B[1;36m0\u001B[0m. \u001B[1;36m3\u001B[0m. \u001B[1;36m0\u001B[0m. \u001B[1;36m2\u001B[0m.\u001B[1m]\u001B[0m\n",
      "text/html": "<pre style=\"white-space:pre;overflow-x:auto;line-height:normal;font-family:Menlo,'DejaVu Sans Mono',consolas,'Courier New',monospace\">System:\n        Coefficients:\n                <span style=\"font-weight: bold\">[</span><span style=\"color: #008080; text-decoration-color: #008080; font-weight: bold\">-1</span>.  <span style=\"color: #008080; text-decoration-color: #008080; font-weight: bold\">0</span>.<span style=\"font-weight: bold\">]</span>\n                <span style=\"font-weight: bold\">[</span><span style=\"color: #008080; text-decoration-color: #008080; font-weight: bold\">1</span>. <span style=\"color: #008080; text-decoration-color: #008080; font-weight: bold\">0</span>.<span style=\"font-weight: bold\">]</span>\n                <span style=\"font-weight: bold\">[</span> <span style=\"color: #008080; text-decoration-color: #008080; font-weight: bold\">0</span>. <span style=\"color: #008080; text-decoration-color: #008080; font-weight: bold\">-1</span>.<span style=\"font-weight: bold\">]</span>\n                <span style=\"font-weight: bold\">[</span><span style=\"color: #008080; text-decoration-color: #008080; font-weight: bold\">0</span>. <span style=\"color: #008080; text-decoration-color: #008080; font-weight: bold\">1</span>.<span style=\"font-weight: bold\">]</span>\n\n        Bounds:\n                <span style=\"font-weight: bold\">[</span><span style=\"color: #008080; text-decoration-color: #008080; font-weight: bold\">0</span>. <span style=\"color: #008080; text-decoration-color: #008080; font-weight: bold\">3</span>. <span style=\"color: #008080; text-decoration-color: #008080; font-weight: bold\">0</span>. <span style=\"color: #008080; text-decoration-color: #008080; font-weight: bold\">2</span>.<span style=\"font-weight: bold\">]</span>\n</pre>\n"
     },
     "metadata": {},
     "output_type": "display_data"
    }
   ],
   "source": [
    "print(s1)"
   ],
   "metadata": {
    "collapsed": false
   }
  }
 ],
 "metadata": {
  "kernelspec": {
   "display_name": "Python 3",
   "language": "python",
   "name": "python3"
  },
  "language_info": {
   "codemirror_mode": {
    "name": "ipython",
    "version": 2
   },
   "file_extension": ".py",
   "mimetype": "text/x-python",
   "name": "python",
   "nbconvert_exporter": "python",
   "pygments_lexer": "ipython2",
   "version": "2.7.6"
  }
 },
 "nbformat": 4,
 "nbformat_minor": 0
}
